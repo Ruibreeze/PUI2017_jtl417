{
 "cells": [
  {
   "cell_type": "code",
   "execution_count": 3,
   "metadata": {
    "collapsed": false
   },
   "outputs": [],
   "source": [
    "import pandas as pd\n",
    "import numpy as np\n",
    "\n",
    "times = pd.read_csv('https://raw.githubusercontent.com/fedhere/PUI2017_fb55/master/Lab3_fb55/times.txt', \\\n",
    "                    sep=\" \", header=None)"
   ]
  },
  {
   "cell_type": "markdown",
   "metadata": {},
   "source": [
    "** The Question:** is the new bus route improving commutes?\n",
    "\n",
    "**The Null Hypothesis:** \n",
    "\n",
    "In words: The commute time is the same or worse than it was before the new line was introduced.\n",
    "\n",
    "As a formula: Tnew >= Told\n",
    "\n",
    "\n",
    "**The Alternative Hypothesis:** \n",
    "\n",
    "In words: The commute time is better than it was before the new line was introduced.\n",
    "\n",
    "As a formula: Tnew < Told"
   ]
  },
  {
   "cell_type": "code",
   "execution_count": 4,
   "metadata": {
    "collapsed": false
   },
   "outputs": [
    {
     "name": "stdout",
     "output_type": "stream",
     "text": [
      "0    2.556397\n",
      "dtype: float64\n"
     ]
    }
   ],
   "source": [
    "sample_mean = times.mean()\n",
    "mean = 36.0\n",
    "sigma = 6.0\n",
    "n = len(times)\n",
    "z = (mean - sample_mean)/(sigma/(n**.5))\n",
    "print(z)"
   ]
  },
  {
   "cell_type": "markdown",
   "metadata": {},
   "source": [
    "**Interpretation**\n",
    "\n",
    "Because the z score is ~ 2.5, this means that the new mean is greater than 2 standard deviations from the mean of the old bus line. With our alpha as .05 (corresponding to 2 standard deviations), we can conclude that the null hypothesis is rejected. This means that our alternative hypothesis stands. In other words, the introduction of the new line improved performance!"
   ]
  }
 ],
 "metadata": {
  "kernelspec": {
   "display_name": "PUI2016_Python2",
   "language": "python",
   "name": "pui2016_python2"
  },
  "language_info": {
   "codemirror_mode": {
    "name": "ipython",
    "version": 2
   },
   "file_extension": ".py",
   "mimetype": "text/x-python",
   "name": "python",
   "nbconvert_exporter": "python",
   "pygments_lexer": "ipython2",
   "version": "2.7.12"
  }
 },
 "nbformat": 4,
 "nbformat_minor": 0
}
