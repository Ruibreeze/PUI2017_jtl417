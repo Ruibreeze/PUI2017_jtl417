{
 "cells": [
  {
   "cell_type": "code",
   "execution_count": 1,
   "metadata": {
    "scrolled": true
   },
   "outputs": [
    {
     "name": "stdout",
     "output_type": "stream",
     "text": [
      "Populating the interactive namespace from numpy and matplotlib\n"
     ]
    },
    {
     "name": "stderr",
     "output_type": "stream",
     "text": [
      "/opt/rh/anaconda/root/envs/PUI2016_Python3/lib/python3.5/site-packages/IPython/core/magics/pylab.py:161: UserWarning: pylab import has clobbered these variables: ['plt']\n",
      "`%matplotlib` prevents importing * from pylab and numpy\n",
      "  \"\\n`%matplotlib` prevents importing * from pylab and numpy\"\n"
     ]
    }
   ],
   "source": [
    "import os\n",
    "import pylab as pl\n",
    "import pandas as pd\n",
    "import numpy as np\n",
    "from datetime import datetime as dt\n",
    "from scipy import stats\n",
    "import statsmodels.formula.api as smf\n",
    "import bokeh\n",
    "import matplotlib as plt\n",
    "%pylab inline"
   ]
  },
  {
   "cell_type": "code",
   "execution_count": 2,
   "metadata": {},
   "outputs": [
    {
     "name": "stdout",
     "output_type": "stream",
     "text": [
      "--2017-11-12 13:23:43--  https://www1.nyc.gov/assets/planning/download/zip/data-maps/open-data/nyc_pluto_16v2%20.zip\n",
      "Resolving www1.nyc.gov... 23.66.229.194, 2600:1400:a:1a3::1500, 2600:1400:a:18f::1500\n",
      "Connecting to www1.nyc.gov|23.66.229.194|:443... connected.\n",
      "HTTP request sent, awaiting response... 200 OK\n",
      "Length: 50630337 (48M) [application/zip]\n",
      "Saving to: “nyc_pluto_16v2 .zip.4”\n",
      "\n",
      "100%[======================================>] 50,630,337  39.7M/s   in 1.2s    \n",
      "\n",
      "2017-11-12 13:23:44 (39.7 MB/s) - “nyc_pluto_16v2 .zip.4” saved [50630337/50630337]\n",
      "\n",
      "mv nyc_pluto_16v2%20.zip/home/cusp/jtl417/PUIdata\n"
     ]
    },
    {
     "data": {
      "text/plain": [
       "256"
      ]
     },
     "execution_count": 2,
     "metadata": {},
     "output_type": "execute_result"
    }
   ],
   "source": [
    "!wget https://www1.nyc.gov/assets/planning/download/zip/data-maps/open-data/nyc_pluto_16v2%20.zip\n",
    "    \n",
    "cmd = \"mv nyc_pluto_16v2%20.zip\" + os.getenv(\"PUIDATA\")\n",
    "\n",
    "print(cmd)\n",
    "\n",
    "os.system(cmd)"
   ]
  },
  {
   "cell_type": "code",
   "execution_count": null,
   "metadata": {},
   "outputs": [],
   "source": [
    "!unzip -d $PUIDATA nyc_pluto_16v2\\ .zip"
   ]
  },
  {
   "cell_type": "code",
   "execution_count": 3,
   "metadata": {},
   "outputs": [
    {
     "name": "stderr",
     "output_type": "stream",
     "text": [
      "/opt/rh/anaconda/root/envs/PUI2016_Python3/lib/python3.5/site-packages/IPython/core/interactiveshell.py:2717: DtypeWarning: Columns (18,19,21,22,23,24,25,63,64,79) have mixed types. Specify dtype option on import or set low_memory=False.\n",
      "  interactivity=interactivity, compiler=compiler, result=result)\n",
      "/opt/rh/anaconda/root/envs/PUI2016_Python3/lib/python3.5/site-packages/IPython/core/interactiveshell.py:2717: DtypeWarning: Columns (18,19,21,22,63,64,79) have mixed types. Specify dtype option on import or set low_memory=False.\n",
      "  interactivity=interactivity, compiler=compiler, result=result)\n",
      "/opt/rh/anaconda/root/envs/PUI2016_Python3/lib/python3.5/site-packages/IPython/core/interactiveshell.py:2717: DtypeWarning: Columns (19,22,23,25,63,79) have mixed types. Specify dtype option on import or set low_memory=False.\n",
      "  interactivity=interactivity, compiler=compiler, result=result)\n",
      "/opt/rh/anaconda/root/envs/PUI2016_Python3/lib/python3.5/site-packages/IPython/core/interactiveshell.py:2717: DtypeWarning: Columns (18,19,21,22,63,64,76) have mixed types. Specify dtype option on import or set low_memory=False.\n",
      "  interactivity=interactivity, compiler=compiler, result=result)\n",
      "/opt/rh/anaconda/root/envs/PUI2016_Python3/lib/python3.5/site-packages/IPython/core/interactiveshell.py:2717: DtypeWarning: Columns (18,19,21,22,23,63,64,79) have mixed types. Specify dtype option on import or set low_memory=False.\n",
      "  interactivity=interactivity, compiler=compiler, result=result)\n"
     ]
    }
   ],
   "source": [
    "bk = pd.read_csv(os.getenv(\"PUIDATA\") + \"/BORO_zip_files_csv/BK.csv\")\n",
    "\n",
    "bx = pd.read_csv(os.getenv(\"PUIDATA\") + \"/BORO_zip_files_csv/BX.csv\")\n",
    "\n",
    "mn = pd.read_csv(os.getenv(\"PUIDATA\") + \"/BORO_zip_files_csv/MN.csv\")\n",
    "\n",
    "qn = pd.read_csv(os.getenv(\"PUIDATA\") + \"/BORO_zip_files_csv/QN.csv\")\n",
    "\n",
    "si = pd.read_csv(os.getenv(\"PUIDATA\") + \"/BORO_zip_files_csv/SI.csv\")"
   ]
  },
  {
   "cell_type": "code",
   "execution_count": 4,
   "metadata": {},
   "outputs": [],
   "source": [
    "pluto = bk\n",
    "pluto = pluto.append(mn)\n",
    "pluto = pluto.append(bx)\n",
    "pluto = pluto.append(si)\n",
    "pluto = pluto.append(qn)"
   ]
  },
  {
   "cell_type": "code",
   "execution_count": 5,
   "metadata": {},
   "outputs": [],
   "source": [
    "pluto_clean = pluto.drop([\"Block\", \"Lot\", 'CT2010', \"CB2010\", 'Address', 'OwnerName', 'BBL', 'CondoNo', 'Tract2010',\\\n",
    "                          'XCoord','YCoord', 'ZMCode', 'Sanbord', 'TaxMap', 'EDesigNum', 'APPBBL', 'APPDate', \\\n",
    "                          'PLUTOMapID', 'Version'])"
   ]
  },
  {
   "cell_type": "code",
   "execution_count": 6,
   "metadata": {},
   "outputs": [
    {
     "data": {
      "text/plain": [
       "Index(['Borough', 'Block', 'Lot', 'CD', 'CT2010', 'CB2010', 'SchoolDist',\n",
       "       'Council', 'ZipCode', 'FireComp', 'PolicePrct', 'HealthArea',\n",
       "       'SanitBoro', 'SanitDistrict', 'SanitSub', 'Address', 'ZoneDist1',\n",
       "       'ZoneDist2', 'ZoneDist3', 'ZoneDist4', 'Overlay1', 'Overlay2',\n",
       "       'SPDist1', 'SPDist2', 'SPDist3', 'LtdHeight', 'SplitZone', 'BldgClass',\n",
       "       'LandUse', 'Easements', 'OwnerType', 'OwnerName', 'LotArea', 'BldgArea',\n",
       "       'ComArea', 'ResArea', 'OfficeArea', 'RetailArea', 'GarageArea',\n",
       "       'StrgeArea', 'FactryArea', 'OtherArea', 'AreaSource', 'NumBldgs',\n",
       "       'NumFloors', 'UnitsRes', 'UnitsTotal', 'LotFront', 'LotDepth',\n",
       "       'BldgFront', 'BldgDepth', 'Ext', 'ProxCode', 'IrrLotCode', 'LotType',\n",
       "       'BsmtCode', 'AssessLand', 'AssessTot', 'ExemptLand', 'ExemptTot',\n",
       "       'YearBuilt', 'YearAlter1', 'YearAlter2', 'HistDist', 'Landmark',\n",
       "       'BuiltFAR', 'ResidFAR', 'CommFAR', 'FacilFAR', 'BoroCode', 'BBL',\n",
       "       'CondoNo', 'Tract2010', 'XCoord', 'YCoord', 'ZoneMap', 'ZMCode',\n",
       "       'Sanborn', 'TaxMap', 'EDesigNum', 'APPBBL', 'APPDate', 'PLUTOMapID',\n",
       "       'Version'],\n",
       "      dtype='object')"
      ]
     },
     "execution_count": 6,
     "metadata": {},
     "output_type": "execute_result"
    }
   ],
   "source": [
    "pluto_clean.columns"
   ]
  },
  {
   "cell_type": "code",
   "execution_count": 7,
   "metadata": {},
   "outputs": [],
   "source": [
    "test = pluto_clean.groupby('CD').sum().reset_index()"
   ]
  },
  {
   "cell_type": "code",
   "execution_count": 8,
   "metadata": {},
   "outputs": [],
   "source": [
    "test1 = pluto_clean.groupby('CD').median().reset_index()"
   ]
  },
  {
   "cell_type": "code",
   "execution_count": 9,
   "metadata": {},
   "outputs": [],
   "source": [
    "test = test[['CD', 'BldgArea', 'ComArea', 'ResArea', 'OfficeArea', 'RetailArea']]\n",
    "\n",
    "test1 = test1[['CD', 'AssessTot']]"
   ]
  },
  {
   "cell_type": "code",
   "execution_count": 10,
   "metadata": {},
   "outputs": [],
   "source": [
    "merge = test.merge(test1, on = 'CD')"
   ]
  },
  {
   "cell_type": "code",
   "execution_count": 11,
   "metadata": {},
   "outputs": [],
   "source": [
    "merge.head()\n",
    "\n",
    "merge_clean = merge[merge.AssessTot < 1e7]"
   ]
  },
  {
   "cell_type": "code",
   "execution_count": 12,
   "metadata": {},
   "outputs": [],
   "source": [
    "lm1 = smf.ols(formula = 'AssessTot ~ BldgArea - 1', data = merge_clean).fit()\n",
    "lm2 = smf.ols(formula = 'AssessTot ~ ComArea - 1', data = merge_clean).fit()\n",
    "lm3 = smf.ols(formula = 'AssessTot ~ ResArea - 1', data = merge_clean).fit()\n",
    "lm4 = smf.ols(formula = 'AssessTot ~ OfficeArea - 1', data = merge_clean).fit()\n",
    "lm5 = smf.ols(formula = 'AssessTot ~ RetailArea - 1', data = merge_clean).fit()"
   ]
  },
  {
   "cell_type": "code",
   "execution_count": 27,
   "metadata": {},
   "outputs": [
    {
     "data": {
      "text/plain": [
       "Text(0.5,0,'Retail Building Area (sf per Community District)')"
      ]
     },
     "execution_count": 27,
     "metadata": {},
     "output_type": "execute_result"
    },
    {
     "data": {
      "image/png": "[encoded data removed]",
      "text/plain": [
       "<matplotlib.figure.Figure at 0x7ff68b108240>"
      ]
     },
     "metadata": {},
     "output_type": "display_data"
    }
   ],
   "source": [
    "#fig, (ax0, ax1, ax2, ax3, ax4) = plt.subplots(nrows=5, figsize=(8,8))\n",
    "fig = plt.figure(figsize = (8,8))\n",
    "fig.subplots_adjust(hspace=.5)\n",
    "\n",
    "ax = fig.add_subplot(111)    # The big subplot\n",
    "ax0 = fig.add_subplot(511)\n",
    "ax1 = fig.add_subplot(512)\n",
    "ax2 = fig.add_subplot(513)\n",
    "ax3 = fig.add_subplot(514)\n",
    "ax4 = fig.add_subplot(515)\n",
    "\n",
    "ax.set_ylabel(\"Assessed Total Value ($)\")\n",
    "ax.spines['top'].set_color('none')\n",
    "ax.spines['bottom'].set_color('none')\n",
    "ax.spines['left'].set_color('none')\n",
    "ax.spines['right'].set_color('none')\n",
    "ax.tick_params(labelcolor='w', top='off', bottom='off', left='off', right='off')\n",
    "\n",
    "\n",
    "ax0.scatter(merge_clean.BldgArea, merge_clean.AssessTot, color = '.5')\n",
    "ax0.plot(merge_clean.BldgArea, lm1.predict(),'-', color = '0')\n",
    "ax0.set_xlim([0,.4e9])\n",
    "ax0.set_xticks([])\n",
    "ax0.set_yticks([])\n",
    "ax0.set_facecolor('white')\n",
    "#ax0.set_title(\"Assessed Total Value vs. Total Building Area (per Community District)\", fontsize=10)\n",
    "#ax0.set_ylabel(\"Assessed Total Value ($)\", fontsize = 8)\n",
    "ax0.set_xlabel('Total Building Area (sf per Community District)', fontsize = 8)\n",
    "\n",
    "\n",
    "ax1.scatter(merge_clean.ComArea, merge_clean.AssessTot, color = '.5')\n",
    "ax1.plot(merge_clean.ComArea, lm2.predict(),'-', color = '0')\n",
    "ax1.set_xlim([0,.4e9])\n",
    "ax1.set_xticks([])\n",
    "ax1.set_yticks([])\n",
    "ax1.set_facecolor('white')\n",
    "#ax1.set_ylabel(\"Assessed Total Value ($)\", fontsize = 8)\n",
    "ax1.set_xlabel('Commercial Building Area (sf per Community District)', fontsize = 8)\n",
    "#ax1.set_title(\"Assessed Total Value vs. Commercial Building Area (per Community District)\", fontsize=10)\n",
    "\n",
    "\n",
    "\n",
    "\n",
    "ax2.scatter(merge_clean.ResArea, merge_clean.AssessTot, color = '.5')\n",
    "ax2.plot(merge_clean.ResArea, lm3.predict(),'-', color = '0')\n",
    "ax2.set_xlim([0,.4e9])\n",
    "ax2.set_xticks([])\n",
    "ax2.set_yticks([])\n",
    "ax2.set_facecolor('white')\n",
    "#ax2.set_title(\"Assessed Total Value vs. Residential Building Area (per Community District)\", fontsize=10)\n",
    "ax2.set_xlabel('Residential Building Area (sf per Community District)', fontsize = 8)\n",
    "\n",
    "\n",
    "\n",
    "ax3.scatter(merge_clean.OfficeArea, merge_clean.AssessTot, color = '.5')\n",
    "ax3.plot(merge_clean.OfficeArea, lm4.predict(),'-', color = '0')\n",
    "ax3.set_xlim([0,.4e9])\n",
    "ax3.set_xticks([])\n",
    "ax3.set_yticks([])\n",
    "ax3.set_facecolor('white')\n",
    "#ax3.set_title(\"Assessed Total Value vs. Office Building Area (per Community District)\", fontsize=10)\n",
    "ax3.set_xlabel('Office Building Area (sf per Community District)', fontsize = 8)\n",
    "\n",
    "\n",
    "\n",
    "ax4.scatter(merge_clean.RetailArea, merge_clean.AssessTot, color = '.5')\n",
    "ax4.plot(merge_clean.RetailArea, lm5.predict(),'-', color = '0')\n",
    "ax4.set_xlim([0,.4e9])\n",
    "ax4.set_xticks([])\n",
    "ax4.set_yticks([])\n",
    "ax4.set_facecolor('white')\n",
    "#ax4.set_title(\"Assessed Total Value vs. Retail Building Area (per Community District)\", fontsize=10)\n",
    "ax4.set_xlabel('Retail Building Area (sf per Community District)', fontsize = 8)\n"
   ]
  },
  {
   "cell_type": "code",
   "execution_count": null,
   "metadata": {},
   "outputs": [],
   "source": []
  }
 ],
 "metadata": {
  "kernelspec": {
   "display_name": "PUI2016_Python3",
   "language": "python",
   "name": "pui2016_python3"
  },
  "language_info": {
   "codemirror_mode": {
    "name": "ipython",
    "version": 3
   },
   "file_extension": ".py",
   "mimetype": "text/x-python",
   "name": "python",
   "nbconvert_exporter": "python",
   "pygments_lexer": "ipython3",
   "version": "3.5.4"
  }
 },
 "nbformat": 4,
 "nbformat_minor": 1
}
