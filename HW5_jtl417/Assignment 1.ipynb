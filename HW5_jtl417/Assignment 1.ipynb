{
 "cells": [
  {
   "cell_type": "code",
   "execution_count": 2,
   "metadata": {
    "collapsed": false
   },
   "outputs": [
    {
     "name": "stdout",
     "output_type": "stream",
     "text": [
      "Populating the interactive namespace from numpy and matplotlib\n"
     ]
    }
   ],
   "source": [
    "import pylab as pl\n",
    "import pandas as pd\n",
    "import numpy as np\n",
    "%pylab inline\n",
    "\n",
    "import scipy.stats\n",
    "\n",
    "from scipy.stats import poisson"
   ]
  },
  {
   "cell_type": "markdown",
   "metadata": {},
   "source": [
    "### Generate 1000 Samples of Size 1000 Following the Poisson Distribution and Plot a Sample"
   ]
  },
  {
   "cell_type": "code",
   "execution_count": 6,
   "metadata": {
    "collapsed": true
   },
   "outputs": [],
   "source": [
    "np.random.seed(seed = 88)"
   ]
  },
  {
   "cell_type": "code",
   "execution_count": 7,
   "metadata": {
    "collapsed": false
   },
   "outputs": [],
   "source": [
    "N = 1000\n",
    "n = 1000\n",
    "lam = 69\n",
    "data = np.zeros((N, N))\n",
    "for i in range (0, N):\n",
    "    sample = np.random.poisson(lam, size = n)\n",
    "    data[i] = sample"
   ]
  },
  {
   "cell_type": "code",
   "execution_count": 8,
   "metadata": {
    "collapsed": false
   },
   "outputs": [
    {
     "data": {
      "text/plain": [
       "[<matplotlib.lines.Line2D at 0x7f16e015e978>]"
      ]
     },
     "execution_count": 8,
     "metadata": {},
     "output_type": "execute_result"
    },
    {
     "data": {
      "image/png": "[encoded data removed]",
      "text/plain": [
       "<matplotlib.figure.Figure at 0x7f16dd611a58>"
      ]
     },
     "metadata": {},
     "output_type": "display_data"
    }
   ],
   "source": [
    "pl.hist(data[1], bins=20, normed = True)\n",
    "\n",
    "pl.xlabel(\"poisson value\")\n",
    "pl.ylabel(\"p\")\n",
    "pl.title(\"Normalized histogram of 1 Sample of the Random Poisson Dist and PMF of the poisson distribution, \\\n",
    "both with lambda = 69\")\n",
    "\n",
    "x = np.arange(poisson.ppf(.01, lam), poisson.ppf(.99, lam))\n",
    "\n",
    "\n",
    "pl.plot(x, scipy.stats.poisson.pmf(x, lam), '-', ms=8, label='poisson pmf')"
   ]
  },
  {
   "cell_type": "markdown",
   "metadata": {},
   "source": [
    "### Generate Array of Means"
   ]
  },
  {
   "cell_type": "code",
   "execution_count": 9,
   "metadata": {
    "collapsed": false
   },
   "outputs": [],
   "source": [
    "means = np.zeros(N)\n",
    "for i in range(0, N):\n",
    "    means[i] = data[i].mean()"
   ]
  },
  {
   "cell_type": "markdown",
   "metadata": {},
   "source": [
    "### Generate Array of Z-Scores + Plot Histogram of Z Scores"
   ]
  },
  {
   "cell_type": "code",
   "execution_count": 12,
   "metadata": {
    "collapsed": false
   },
   "outputs": [],
   "source": [
    "z = np.zeros((N,N))\n",
    "\n",
    "z = (lam - means) * np.sqrt(N)/np.sqrt(lam)\n",
    "\n",
    "z = z.ravel()"
   ]
  },
  {
   "cell_type": "code",
   "execution_count": 17,
   "metadata": {
    "collapsed": false
   },
   "outputs": [
    {
     "data": {
      "text/plain": [
       "Text(0.5,1,'Histogram of all z scores')"
      ]
     },
     "execution_count": 17,
     "metadata": {},
     "output_type": "execute_result"
    },
    {
     "data": {
      "image/png": "[encoded data removed]",
      "text/plain": [
       "<matplotlib.figure.Figure at 0x7f16e0045940>"
      ]
     },
     "metadata": {},
     "output_type": "display_data"
    }
   ],
   "source": [
    "pl.hist(z, bins = 20)\n",
    "\n",
    "pl.xlabel(\"z score\")\n",
    "pl.ylabel(\"N\")\n",
    "pl.title(\"Histogram of all z scores\")"
   ]
  },
  {
   "cell_type": "markdown",
   "metadata": {},
   "source": [
    "### Testing Fit"
   ]
  },
  {
   "cell_type": "code",
   "execution_count": 18,
   "metadata": {
    "collapsed": true
   },
   "outputs": [],
   "source": [
    "mean, std = scipy.stats.norm.fit(z)"
   ]
  },
  {
   "cell_type": "code",
   "execution_count": 21,
   "metadata": {
    "collapsed": false
   },
   "outputs": [
    {
     "name": "stdout",
     "output_type": "stream",
     "text": [
      "-0.00951733734534 0.982727069309\n",
      "The mean is close to 0 and the standard deviation is close to 1, which would suggest the distribution of zscores is  close to the normal distribution.\n"
     ]
    }
   ],
   "source": [
    "print(mean, std)\n",
    "print(\"The mean is close to 0 and the standard deviation is close to 1, which would suggest the distribution of z\\\n",
    "scores is  close to the normal distribution.\")"
   ]
  },
  {
   "cell_type": "code",
   "execution_count": 20,
   "metadata": {
    "collapsed": false
   },
   "outputs": [
    {
     "name": "stdout",
     "output_type": "stream",
     "text": [
      "AndersonResult(statistic=0.16989591193168962, critical_values=array([ 0.574,  0.653,  0.784,  0.914,  1.088]), significance_level=array([ 15. ,  10. ,   5. ,   2.5,   1. ])) KstestResult(statistic=0.021023804912636557, pvalue=0.7686941804443933)\n"
     ]
    }
   ],
   "source": [
    "print(scipy.stats.anderson(z, \"norm\"), scipy.stats.kstest(z, \"norm\"))"
   ]
  },
  {
   "cell_type": "markdown",
   "metadata": {},
   "source": [
    "For Anderson: The test statistic is less than the critical value for p = .05, therefore the null hypothesis cannot be rejected, and we cannot conclude that the Z score is not of the normal distribution.\n",
    "\n",
    "For KS test: The p-value is greater than .05, therefore the null hypothesis cannot be rejected, and we cannot conclude that the Z score is not of the normal distribution."
   ]
  }
 ],
 "metadata": {
  "kernelspec": {
   "display_name": "PUI2016_Python3",
   "language": "python",
   "name": "pui2016_python3"
  },
  "language_info": {
   "codemirror_mode": {
    "name": "ipython",
    "version": 3
   },
   "file_extension": ".py",
   "mimetype": "text/x-python",
   "name": "python",
   "nbconvert_exporter": "python",
   "pygments_lexer": "ipython3",
   "version": "3.5.4"
  }
 },
 "nbformat": 4,
 "nbformat_minor": 0
}
