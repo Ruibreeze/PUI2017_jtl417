{
 "cells": [
  {
   "cell_type": "code",
   "execution_count": 1,
   "metadata": {
    "collapsed": false
   },
   "outputs": [],
   "source": [
    "import pylab as pl\n",
    "import pandas as pd\n",
    "import numpy as np\n",
    "import os\n",
    "import scipy.stats as stats\n",
    "from geopy.geocoders import Nominatim"
   ]
  },
  {
   "cell_type": "markdown",
   "metadata": {},
   "source": [
    "### Reading in Data"
   ]
  },
  {
   "cell_type": "code",
   "execution_count": 2,
   "metadata": {
    "collapsed": true
   },
   "outputs": [],
   "source": [
    "##Taken from Prof. Bianco's getCitiBikeCSV.py file\n",
    "\n",
    "def getCitiBikeCSV(datestring):\n",
    "    print (\"Downloading\", datestring)\n",
    "    ### First I will check that it is not already there\n",
    "    if not os.path.isfile(os.getenv(\"PUIDATA\") + \"/\" + datestring + \"-citibike-tripdata.csv\"):\n",
    "        if os.path.isfile(datestring + \"-citibike-tripdata.csv\"):\n",
    "            # if in the current dir just move it\n",
    "            if os.system(\"mv \" + datestring + \"-citibike-tripdata.csv \" + os.getenv(\"PUIDATA\")):\n",
    "                print (\"Error moving file!, Please check!\")\n",
    "        #otherwise start looking for the zip file\n",
    "        else:\n",
    "            if not os.path.isfile(os.getenv(\"PUIDATA\") + \"/\" + datestring + \"-citibike-tripdata.zip\"):\n",
    "                if not os.path.isfile(datestring + \"-citibike-tripdata.zip\"):\n",
    "                    os.system(\"curl -O https://s3.amazonaws.com/tripdata/\" + datestring + \"-citibike-tripdata.zip\")\n",
    "                ###  To move it I use the os.system() functions to run bash commands with arguments\n",
    "                os.system(\"mv \" + datestring + \"-citibike-tripdata.zip \" + os.getenv(\"PUIDATA\"))\n",
    "            ### unzip the csv \n",
    "            os.system(\"unzip \" + os.getenv(\"PUIDATA\") + \"/\" + datestring + \"-citibike-tripdata.zip\")\n",
    "            ## NOTE: old csv citibike data had a different name structure. \n",
    "            if '2014' in datestring:\n",
    "                os.system(\"mv \" + datestring[:4] + '-' +  datestring[4:] + \n",
    "                          \"\\ -\\ Citi\\ Bike\\ trip\\ data.csv \" + datestring + \"-citibike-tripdata.csv\")\n",
    "            os.system(\"mv \" + datestring + \"-citibike-tripdata.csv \" + os.getenv(\"PUIDATA\"))\n",
    "    ### One final check:\n",
    "    if not os.path.isfile(os.getenv(\"PUIDATA\") + \"/\" + datestring + \"-citibike-tripdata.csv\"):\n",
    "        print (\"WARNING!!! something is wrong: the file is not there!\")\n",
    "\n",
    "    else:\n",
    "        print (\"file in place, you can continue\")"
   ]
  },
  {
   "cell_type": "code",
   "execution_count": 3,
   "metadata": {
    "collapsed": false
   },
   "outputs": [
    {
     "name": "stdout",
     "output_type": "stream",
     "text": [
      "Downloading 201501\n",
      "file in place, you can continue\n",
      "Downloading 201502\n",
      "file in place, you can continue\n"
     ]
    }
   ],
   "source": [
    "datestring1 = '201501'\n",
    "getCitiBikeCSV(datestring1)\n",
    "datestring2 = '201502'\n",
    "getCitiBikeCSV(datestring2)"
   ]
  },
  {
   "cell_type": "code",
   "execution_count": 4,
   "metadata": {
    "collapsed": false
   },
   "outputs": [],
   "source": [
    "df1 = pd.read_csv(os.getenv(\"PUIDATA\") + \"/\" + datestring1 + '-citibike-tripdata.csv')\n",
    "df2 = pd.read_csv(os.getenv(\"PUIDATA\") + \"/\" + datestring2 + '-citibike-tripdata.csv')\n",
    "df = df1.append(df2)"
   ]
  },
  {
   "cell_type": "code",
   "execution_count": 5,
   "metadata": {
    "collapsed": false,
    "scrolled": true
   },
   "outputs": [],
   "source": [
    "df['date'] = pd.to_datetime(df['starttime'])"
   ]
  },
  {
   "cell_type": "markdown",
   "metadata": {},
   "source": [
    "### Splitting by Category"
   ]
  },
  {
   "cell_type": "markdown",
   "metadata": {},
   "source": [
    "**H0:** There is no statistical relationship between the trip duration of day time and night time trips, $$ \\alpha = 0.05 $$\n",
    "\n",
    "**H0:** There is no statistical relationship between age of bikers in brooklyn vs. manhattan, $$ \\alpha = 0.05 $$"
   ]
  },
  {
   "cell_type": "markdown",
   "metadata": {},
   "source": [
    "#### Part 1: Splitting by Day time/night time trip durations\n",
    "\n",
    "day time: 7am to 7pm (7 - 19)\n",
    "night time: 8pm to 6am(20 - 23, 0-6)"
   ]
  },
  {
   "cell_type": "code",
   "execution_count": 6,
   "metadata": {
    "collapsed": false
   },
   "outputs": [],
   "source": [
    "df['hour'] = pd.to_datetime(df['starttime']).dt.hour"
   ]
  },
  {
   "cell_type": "code",
   "execution_count": 7,
   "metadata": {
    "collapsed": true
   },
   "outputs": [],
   "source": [
    "df = df.sort_values(\"hour\").reset_index()"
   ]
  },
  {
   "cell_type": "code",
   "execution_count": 8,
   "metadata": {
    "collapsed": false
   },
   "outputs": [],
   "source": [
    "df[\"Daytime?\"] = 0"
   ]
  },
  {
   "cell_type": "code",
   "execution_count": 9,
   "metadata": {
    "collapsed": false
   },
   "outputs": [
    {
     "data": {
      "text/html": [
       "<div>\n",
       "<table border=\"1\" class=\"dataframe\">\n",
       "  <thead>\n",
       "    <tr style=\"text-align: right;\">\n",
       "      <th></th>\n",
       "      <th>index</th>\n",
       "      <th>tripduration</th>\n",
       "      <th>starttime</th>\n",
       "      <th>stoptime</th>\n",
       "      <th>start station id</th>\n",
       "      <th>start station name</th>\n",
       "      <th>start station latitude</th>\n",
       "      <th>start station longitude</th>\n",
       "      <th>end station id</th>\n",
       "      <th>end station name</th>\n",
       "      <th>end station latitude</th>\n",
       "      <th>end station longitude</th>\n",
       "      <th>bikeid</th>\n",
       "      <th>usertype</th>\n",
       "      <th>birth year</th>\n",
       "      <th>gender</th>\n",
       "      <th>date</th>\n",
       "      <th>hour</th>\n",
       "      <th>Daytime?</th>\n",
       "    </tr>\n",
       "  </thead>\n",
       "  <tbody>\n",
       "    <tr>\n",
       "      <th>26250</th>\n",
       "      <td>44654</td>\n",
       "      <td>472</td>\n",
       "      <td>1/6/2015 7:35</td>\n",
       "      <td>1/6/2015 7:43</td>\n",
       "      <td>510</td>\n",
       "      <td>W 51 St &amp; 6 Ave</td>\n",
       "      <td>40.76066</td>\n",
       "      <td>-73.98042</td>\n",
       "      <td>72</td>\n",
       "      <td>W 52 St &amp; 11 Ave</td>\n",
       "      <td>40.767272</td>\n",
       "      <td>-73.993929</td>\n",
       "      <td>17512</td>\n",
       "      <td>Subscriber</td>\n",
       "      <td>1957.0</td>\n",
       "      <td>1</td>\n",
       "      <td>2015-01-06 07:35:00</td>\n",
       "      <td>7</td>\n",
       "      <td>0</td>\n",
       "    </tr>\n",
       "  </tbody>\n",
       "</table>\n",
       "</div>"
      ],
      "text/plain": [
       "       index  tripduration      starttime       stoptime  start station id  \\\n",
       "26250  44654           472  1/6/2015 7:35  1/6/2015 7:43               510   \n",
       "\n",
       "      start station name  start station latitude  start station longitude  \\\n",
       "26250    W 51 St & 6 Ave                40.76066                -73.98042   \n",
       "\n",
       "       end station id  end station name  end station latitude  \\\n",
       "26250              72  W 52 St & 11 Ave             40.767272   \n",
       "\n",
       "       end station longitude  bikeid    usertype  birth year  gender  \\\n",
       "26250             -73.993929   17512  Subscriber      1957.0       1   \n",
       "\n",
       "                     date  hour  Daytime?  \n",
       "26250 2015-01-06 07:35:00     7         0  "
      ]
     },
     "execution_count": 9,
     "metadata": {},
     "output_type": "execute_result"
    }
   ],
   "source": [
    "df[(df['hour'] == 7)].head(1)"
   ]
  },
  {
   "cell_type": "code",
   "execution_count": 10,
   "metadata": {
    "collapsed": false
   },
   "outputs": [
    {
     "data": {
      "text/html": [
       "<div>\n",
       "<table border=\"1\" class=\"dataframe\">\n",
       "  <thead>\n",
       "    <tr style=\"text-align: right;\">\n",
       "      <th></th>\n",
       "      <th>index</th>\n",
       "      <th>tripduration</th>\n",
       "      <th>starttime</th>\n",
       "      <th>stoptime</th>\n",
       "      <th>start station id</th>\n",
       "      <th>start station name</th>\n",
       "      <th>start station latitude</th>\n",
       "      <th>start station longitude</th>\n",
       "      <th>end station id</th>\n",
       "      <th>end station name</th>\n",
       "      <th>end station latitude</th>\n",
       "      <th>end station longitude</th>\n",
       "      <th>bikeid</th>\n",
       "      <th>usertype</th>\n",
       "      <th>birth year</th>\n",
       "      <th>gender</th>\n",
       "      <th>date</th>\n",
       "      <th>hour</th>\n",
       "      <th>Daytime?</th>\n",
       "    </tr>\n",
       "  </thead>\n",
       "  <tbody>\n",
       "    <tr>\n",
       "      <th>432356</th>\n",
       "      <td>51328</td>\n",
       "      <td>242</td>\n",
       "      <td>1/6/2015 20:04</td>\n",
       "      <td>1/6/2015 20:08</td>\n",
       "      <td>324</td>\n",
       "      <td>DeKalb Ave &amp; Hudson Ave</td>\n",
       "      <td>40.689888</td>\n",
       "      <td>-73.981013</td>\n",
       "      <td>241</td>\n",
       "      <td>DeKalb Ave &amp; S Portland Ave</td>\n",
       "      <td>40.68981</td>\n",
       "      <td>-73.974931</td>\n",
       "      <td>20809</td>\n",
       "      <td>Subscriber</td>\n",
       "      <td>1984.0</td>\n",
       "      <td>1</td>\n",
       "      <td>2015-01-06 20:04:00</td>\n",
       "      <td>20</td>\n",
       "      <td>0</td>\n",
       "    </tr>\n",
       "  </tbody>\n",
       "</table>\n",
       "</div>"
      ],
      "text/plain": [
       "        index  tripduration       starttime        stoptime  start station id  \\\n",
       "432356  51328           242  1/6/2015 20:04  1/6/2015 20:08               324   \n",
       "\n",
       "             start station name  start station latitude  \\\n",
       "432356  DeKalb Ave & Hudson Ave               40.689888   \n",
       "\n",
       "        start station longitude  end station id             end station name  \\\n",
       "432356               -73.981013             241  DeKalb Ave & S Portland Ave   \n",
       "\n",
       "        end station latitude  end station longitude  bikeid    usertype  \\\n",
       "432356              40.68981             -73.974931   20809  Subscriber   \n",
       "\n",
       "        birth year  gender                date  hour  Daytime?  \n",
       "432356      1984.0       1 2015-01-06 20:04:00    20         0  "
      ]
     },
     "execution_count": 10,
     "metadata": {},
     "output_type": "execute_result"
    }
   ],
   "source": [
    "df[df['hour'] == 20].head(1)"
   ]
  },
  {
   "cell_type": "code",
   "execution_count": 94,
   "metadata": {
    "collapsed": false
   },
   "outputs": [],
   "source": [
    "pd.options.mode.chained_assignment = None  # default='warn'\n",
    "day_index1 = 26250  #the first index at hour 7\n",
    "day_index2 = 432356 - 1 #the last index at hour 19\n",
    "df[\"Daytime?\"].iloc[day_index1:day_index2] = 1 #setting all daytime rows to 1"
   ]
  },
  {
   "cell_type": "markdown",
   "metadata": {},
   "source": [
    "#### Part 2: Splitting by Manhattan/Brooklyn, accounting for ages"
   ]
  },
  {
   "cell_type": "code",
   "execution_count": 112,
   "metadata": {
    "collapsed": false
   },
   "outputs": [],
   "source": [
    "lat_min = 40.700402\n",
    "lat_max = 40.810445\n",
    "long_min = -74.027210\n",
    "long_max = -73.971527"
   ]
  },
  {
   "cell_type": "code",
   "execution_count": 113,
   "metadata": {
    "collapsed": false
   },
   "outputs": [],
   "source": [
    "def borough_sort(lat_long): #bounding \"Manhattan\" into a rough box, assuming everything outside \"Manhattan\" is \"BKLYN\"\n",
    "    lat, long = lat_long\n",
    "    if (lat >= lat_min) & (lat <= lat_max) & (long >= long_min) & (long <= long_max):\n",
    "        return 1\n",
    "    else:\n",
    "        return 0"
   ]
  },
  {
   "cell_type": "code",
   "execution_count": 114,
   "metadata": {
    "collapsed": false
   },
   "outputs": [],
   "source": [
    "df[\"Manhattan?\"] = df[['start station latitude' , 'start station longitude']].apply(borough_sort, axis = 1)"
   ]
  },
  {
   "cell_type": "code",
   "execution_count": 115,
   "metadata": {
    "collapsed": false
   },
   "outputs": [],
   "source": [
    "df[\"Age\"] = 2015 - df['birth year']"
   ]
  },
  {
   "cell_type": "markdown",
   "metadata": {},
   "source": [
    "### Data Wrangling"
   ]
  },
  {
   "cell_type": "markdown",
   "metadata": {},
   "source": [
    "**(a) with Manhattan/Brooklyn Ages (same size and sorted)**"
   ]
  },
  {
   "cell_type": "code",
   "execution_count": 116,
   "metadata": {
    "collapsed": false
   },
   "outputs": [],
   "source": [
    "#Creating an array to do pearson and spearman, dropping nan values\n",
    "\n",
    "manhattan = df.Age[df[\"Manhattan?\"] == 1]\n",
    "manhattan = manhattan.dropna()\n",
    "bklyn = df.Age[df[\"Manhattan?\"] == 0]\n",
    "bklyn = bklyn.dropna()"
   ]
  },
  {
   "cell_type": "code",
   "execution_count": 117,
   "metadata": {
    "collapsed": true
   },
   "outputs": [],
   "source": [
    "#Turning into an np array\n",
    "\n",
    "manhattan = np.asarray(manhattan)\n",
    "bklyn = np.asarray(bklyn)"
   ]
  },
  {
   "cell_type": "code",
   "execution_count": 118,
   "metadata": {
    "collapsed": false
   },
   "outputs": [
    {
     "name": "stdout",
     "output_type": "stream",
     "text": [
      "434270 40317\n"
     ]
    }
   ],
   "source": [
    "print(len(manhattan), len(bklyn))"
   ]
  },
  {
   "cell_type": "code",
   "execution_count": 119,
   "metadata": {
    "collapsed": true
   },
   "outputs": [],
   "source": [
    "#Taking a sampling from manhattan that is the same size as the bklyn dataset\n",
    "manhattan_sample = np.random.choice(manhattan, size = 40317, replace = False)"
   ]
  },
  {
   "cell_type": "code",
   "execution_count": 120,
   "metadata": {
    "collapsed": true
   },
   "outputs": [],
   "source": [
    "#Sorting the arrays\n",
    "manhattan_sample = sorted(manhattan_sample)\n",
    "bklyn = sorted(bklyn)"
   ]
  },
  {
   "cell_type": "markdown",
   "metadata": {},
   "source": [
    "**(b) with Day + Night Trip Durations (same size and sorted)**"
   ]
  },
  {
   "cell_type": "code",
   "execution_count": 121,
   "metadata": {
    "collapsed": false
   },
   "outputs": [],
   "source": [
    "#Creating an array to do pearson and spearman, dropping nan values\n",
    "\n",
    "day = df.tripduration[df[\"Daytime?\"] == 1]\n",
    "night = df.tripduration[df[\"Daytime?\"] == 0]"
   ]
  },
  {
   "cell_type": "code",
   "execution_count": 122,
   "metadata": {
    "collapsed": false
   },
   "outputs": [],
   "source": [
    "#Turning into an np array\n",
    "\n",
    "day = np.asarray(day)\n",
    "night = np.asarray(night)"
   ]
  },
  {
   "cell_type": "code",
   "execution_count": 123,
   "metadata": {
    "collapsed": false
   },
   "outputs": [
    {
     "name": "stdout",
     "output_type": "stream",
     "text": [
      "406105 76377\n"
     ]
    }
   ],
   "source": [
    "print(len(day), len(night))"
   ]
  },
  {
   "cell_type": "code",
   "execution_count": 124,
   "metadata": {
    "collapsed": false
   },
   "outputs": [],
   "source": [
    "#Taking a sampling from manhattan that is the same size as the bklyn dataset\n",
    "\n",
    "day_sample = np.random.choice(day, size = 76377, replace = False)"
   ]
  },
  {
   "cell_type": "code",
   "execution_count": 125,
   "metadata": {
    "collapsed": false
   },
   "outputs": [],
   "source": [
    "#Sorting the arrays\n",
    "\n",
    "day_sample = sorted(day_sample)\n",
    "night = sorted(night)"
   ]
  },
  {
   "cell_type": "markdown",
   "metadata": {},
   "source": [
    "### KS Test"
   ]
  },
  {
   "cell_type": "code",
   "execution_count": 126,
   "metadata": {
    "collapsed": false
   },
   "outputs": [
    {
     "name": "stdout",
     "output_type": "stream",
     "text": [
      "Ks_2sampResult(statistic=0.054503158602050683, pvalue=1.8609701709516374e-166) Ks_2sampResult(statistic=0.0564987187433732, pvalue=7.6700793684706055e-103)\n"
     ]
    }
   ],
   "source": [
    "#For Manhattan/Brooklyn Ages, Day + Night Trip Durations\n",
    "\n",
    "ks2 = stats.ks_2samp(df.Age[df[\"Manhattan?\"] == 0].dropna(), df.Age[df[\"Manhattan?\"] == 1].dropna())\n",
    "ks1 = stats.ks_2samp(df.tripduration[df[\"Daytime?\"] == 0], df.tripduration[df[\"Daytime?\"] == 1])\n",
    "print(ks1, ks2)"
   ]
  },
  {
   "cell_type": "markdown",
   "metadata": {},
   "source": [
    "Because both of our KS statistics are less than 1.36 (c(alpha = .05)) (which is less than 1.36 * squareroot(sum diff/product diff)), we cannot reject our null hypotheses."
   ]
  },
  {
   "cell_type": "markdown",
   "metadata": {},
   "source": [
    "### Pearson's Test"
   ]
  },
  {
   "cell_type": "code",
   "execution_count": 127,
   "metadata": {
    "collapsed": false
   },
   "outputs": [
    {
     "name": "stdout",
     "output_type": "stream",
     "text": [
      "(0.93761232642674908, 0.0) (0.99506626400172016, 0.0)\n"
     ]
    }
   ],
   "source": [
    "#Test\n",
    "pt1 = stats.pearsonr(day_sample, night)\n",
    "pt2 = stats.pearsonr(manhattan_sample, bklyn)\n",
    "print(pt1, pt2)"
   ]
  },
  {
   "cell_type": "markdown",
   "metadata": {},
   "source": [
    "The high pearson's coefficients and low p value suggest a linear relationship between day-time/night-time durations and manhattan/brooklyn ages. This suggests that they may be of the same distribution, meaning that their is likely some statistical relationship between our two pairs. While we cannot reject the null hypothesis outright it would seem to point that way for both our tests."
   ]
  },
  {
   "cell_type": "markdown",
   "metadata": {},
   "source": [
    "### Spearman's Test"
   ]
  },
  {
   "cell_type": "code",
   "execution_count": 128,
   "metadata": {
    "collapsed": false
   },
   "outputs": [
    {
     "name": "stdout",
     "output_type": "stream",
     "text": [
      "SpearmanrResult(correlation=0.99999860750938596, pvalue=0.0) SpearmanrResult(correlation=0.99922398508105226, pvalue=0.0)\n"
     ]
    }
   ],
   "source": [
    "#Test\n",
    "st1 = stats.spearmanr(day_sample,night) \n",
    "st2 = stats.spearmanr(manhattan_sample, bklyn)\n",
    "print(st1,st2)"
   ]
  },
  {
   "cell_type": "markdown",
   "metadata": {},
   "source": [
    "The high pearson's coefficients and low p value suggest a linear relationship between day-time/night-time durations and manhattan/brooklyn ages. This suggests that they may be of the same distribution, meaning that their is likely some statistical relationship between our two pairs. While we cannot reject the null hypothesis outright it would seem to point that way for both our tests."
   ]
  }
 ],
 "metadata": {
  "kernelspec": {
   "display_name": "PUI2016_Python3",
   "language": "python",
   "name": "pui2016_python3"
  },
  "language_info": {
   "codemirror_mode": {
    "name": "ipython",
    "version": 3
   },
   "file_extension": ".py",
   "mimetype": "text/x-python",
   "name": "python",
   "nbconvert_exporter": "python",
   "pygments_lexer": "ipython3",
   "version": "3.5.4"
  }
 },
 "nbformat": 4,
 "nbformat_minor": 0
}
