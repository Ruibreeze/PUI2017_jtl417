{
 "cells": [
  {
   "cell_type": "code",
   "execution_count": 82,
   "metadata": {
    "collapsed": false
   },
   "outputs": [
    {
     "name": "stdout",
     "output_type": "stream",
     "text": [
      "Populating the interactive namespace from numpy and matplotlib\n"
     ]
    }
   ],
   "source": [
    "import os\n",
    "import pylab as pl\n",
    "import seaborn\n",
    "import pandas as pd\n",
    "import numpy as np\n",
    "from datetime import datetime as dt\n",
    "from scipy import stats\n",
    "%pylab inline"
   ]
  },
  {
   "cell_type": "code",
   "execution_count": 83,
   "metadata": {
    "collapsed": true
   },
   "outputs": [],
   "source": [
    "def getCitiBikeCSV(datestring):\n",
    "    print (\"Downloading\", datestring)\n",
    "    ### First I will heck that it is not already there\n",
    "    if not os.path.isfile(os.getenv(\"PUIDATA\") + \"/\" + datestring + \"-citibike-tripdata.csv\"):\n",
    "        if os.path.isfile(datestring + \"-citibike-tripdata.csv\"):\n",
    "            # if in the current dir just move it\n",
    "            if os.system(\"mv \" + datestring + \"-citibike-tripdata.csv \" + os.getenv(\"PUIDATA\")):\n",
    "                print (\"Error moving file!, Please check!\")\n",
    "        #otherwise start looking for the zip file\n",
    "        else:\n",
    "            if not os.path.isfile(os.getenv(\"PUIDATA\") + \"/\" + datestring + \"-citibike-tripdata.zip\"):\n",
    "                if not os.path.isfile(datestring + \"-citibike-tripdata.zip\"):\n",
    "                    os.system(\"curl -O https://s3.amazonaws.com/tripdata/\" + datestring + \"-citibike-tripdata.zip\")\n",
    "                ###  To move it I use the os.system() functions to run bash commands with arguments\n",
    "                os.system(\"mv \" + datestring + \"-citibike-tripdata.zip \" + os.getenv(\"PUIDATA\"))\n",
    "            ### unzip the csv \n",
    "            os.system(\"unzip \" + os.getenv(\"PUIDATA\") + \"/\" + datestring + \"-citibike-tripdata.zip\")\n",
    "            ## NOTE: old csv citibike data had a different name structure. \n",
    "            if '2014' in datestring:\n",
    "                os.system(\"mv \" + datestring[:4] + '-' +  datestring[4:] + \n",
    "                          \"\\ -\\ Citi\\ Bike\\ trip\\ data.csv \" + datestring + \"-citibike-tripdata.csv\")\n",
    "            os.system(\"mv \" + datestring + \"-citibike-tripdata.csv \" + os.getenv(\"PUIDATA\"))\n",
    "    ### One final check:\n",
    "    if not os.path.isfile(os.getenv(\"PUIDATA\") + \"/\" + datestring + \"-citibike-tripdata.csv\"):\n",
    "        print (\"WARNING!!! something is wrong: the file is not there!\")\n",
    "\n",
    "    else:\n",
    "        print (\"file in place, you can continue\")"
   ]
  },
  {
   "cell_type": "code",
   "execution_count": 84,
   "metadata": {
    "collapsed": false
   },
   "outputs": [
    {
     "name": "stdout",
     "output_type": "stream",
     "text": [
      "Downloading 201503\n",
      "file in place, you can continue\n"
     ]
    }
   ],
   "source": [
    "datestring = '201503'\n",
    "getCitiBikeCSV(datestring)"
   ]
  },
  {
   "cell_type": "code",
   "execution_count": 85,
   "metadata": {
    "collapsed": false
   },
   "outputs": [],
   "source": [
    "trips = pd.read_csv(os.getenv(\"PUIDATA\") + \"/\" + datestring + '-citibike-tripdata.csv')"
   ]
  },
  {
   "cell_type": "code",
   "execution_count": 86,
   "metadata": {
    "collapsed": false
   },
   "outputs": [
    {
     "data": {
      "text/html": [
       "<div>\n",
       "<table border=\"1\" class=\"dataframe\">\n",
       "  <thead>\n",
       "    <tr style=\"text-align: right;\">\n",
       "      <th></th>\n",
       "      <th>tripduration</th>\n",
       "      <th>starttime</th>\n",
       "      <th>stoptime</th>\n",
       "      <th>start station id</th>\n",
       "      <th>start station name</th>\n",
       "      <th>start station latitude</th>\n",
       "      <th>start station longitude</th>\n",
       "      <th>end station id</th>\n",
       "      <th>end station name</th>\n",
       "      <th>end station latitude</th>\n",
       "      <th>end station longitude</th>\n",
       "      <th>bikeid</th>\n",
       "      <th>usertype</th>\n",
       "      <th>birth year</th>\n",
       "      <th>gender</th>\n",
       "      <th>date</th>\n",
       "    </tr>\n",
       "  </thead>\n",
       "  <tbody>\n",
       "    <tr>\n",
       "      <th>0</th>\n",
       "      <td>669</td>\n",
       "      <td>3/1/2015 0:00</td>\n",
       "      <td>3/1/2015 0:11</td>\n",
       "      <td>164</td>\n",
       "      <td>E 47 St &amp; 2 Ave</td>\n",
       "      <td>40.753231</td>\n",
       "      <td>-73.970325</td>\n",
       "      <td>477</td>\n",
       "      <td>W 41 St &amp; 8 Ave</td>\n",
       "      <td>40.756405</td>\n",
       "      <td>-73.990026</td>\n",
       "      <td>21409</td>\n",
       "      <td>Subscriber</td>\n",
       "      <td>1987.0</td>\n",
       "      <td>1</td>\n",
       "      <td>2015-03-01 00:00:00</td>\n",
       "    </tr>\n",
       "    <tr>\n",
       "      <th>1</th>\n",
       "      <td>750</td>\n",
       "      <td>3/1/2015 0:01</td>\n",
       "      <td>3/1/2015 0:14</td>\n",
       "      <td>258</td>\n",
       "      <td>DeKalb Ave &amp; Vanderbilt Ave</td>\n",
       "      <td>40.689407</td>\n",
       "      <td>-73.968855</td>\n",
       "      <td>436</td>\n",
       "      <td>Hancock St &amp; Bedford Ave</td>\n",
       "      <td>40.682166</td>\n",
       "      <td>-73.953990</td>\n",
       "      <td>19397</td>\n",
       "      <td>Subscriber</td>\n",
       "      <td>1968.0</td>\n",
       "      <td>1</td>\n",
       "      <td>2015-03-01 00:01:00</td>\n",
       "    </tr>\n",
       "    <tr>\n",
       "      <th>2</th>\n",
       "      <td>663</td>\n",
       "      <td>3/1/2015 0:01</td>\n",
       "      <td>3/1/2015 0:12</td>\n",
       "      <td>497</td>\n",
       "      <td>E 17 St &amp; Broadway</td>\n",
       "      <td>40.737050</td>\n",
       "      <td>-73.990093</td>\n",
       "      <td>477</td>\n",
       "      <td>W 41 St &amp; 8 Ave</td>\n",
       "      <td>40.756405</td>\n",
       "      <td>-73.990026</td>\n",
       "      <td>20998</td>\n",
       "      <td>Customer</td>\n",
       "      <td>NaN</td>\n",
       "      <td>0</td>\n",
       "      <td>2015-03-01 00:01:00</td>\n",
       "    </tr>\n",
       "    <tr>\n",
       "      <th>3</th>\n",
       "      <td>480</td>\n",
       "      <td>3/1/2015 0:02</td>\n",
       "      <td>3/1/2015 0:10</td>\n",
       "      <td>470</td>\n",
       "      <td>W 20 St &amp; 8 Ave</td>\n",
       "      <td>40.743453</td>\n",
       "      <td>-74.000040</td>\n",
       "      <td>491</td>\n",
       "      <td>E 24 St &amp; Park Ave S</td>\n",
       "      <td>40.740964</td>\n",
       "      <td>-73.986022</td>\n",
       "      <td>21565</td>\n",
       "      <td>Subscriber</td>\n",
       "      <td>1983.0</td>\n",
       "      <td>1</td>\n",
       "      <td>2015-03-01 00:02:00</td>\n",
       "    </tr>\n",
       "    <tr>\n",
       "      <th>4</th>\n",
       "      <td>1258</td>\n",
       "      <td>3/1/2015 0:02</td>\n",
       "      <td>3/1/2015 0:23</td>\n",
       "      <td>345</td>\n",
       "      <td>W 13 St &amp; 6 Ave</td>\n",
       "      <td>40.736494</td>\n",
       "      <td>-73.997044</td>\n",
       "      <td>473</td>\n",
       "      <td>Rivington St &amp; Chrystie St</td>\n",
       "      <td>40.721101</td>\n",
       "      <td>-73.991925</td>\n",
       "      <td>14693</td>\n",
       "      <td>Subscriber</td>\n",
       "      <td>1970.0</td>\n",
       "      <td>1</td>\n",
       "      <td>2015-03-01 00:02:00</td>\n",
       "    </tr>\n",
       "  </tbody>\n",
       "</table>\n",
       "</div>"
      ],
      "text/plain": [
       "   tripduration      starttime       stoptime  start station id  \\\n",
       "0           669  3/1/2015 0:00  3/1/2015 0:11               164   \n",
       "1           750  3/1/2015 0:01  3/1/2015 0:14               258   \n",
       "2           663  3/1/2015 0:01  3/1/2015 0:12               497   \n",
       "3           480  3/1/2015 0:02  3/1/2015 0:10               470   \n",
       "4          1258  3/1/2015 0:02  3/1/2015 0:23               345   \n",
       "\n",
       "            start station name  start station latitude  \\\n",
       "0              E 47 St & 2 Ave               40.753231   \n",
       "1  DeKalb Ave & Vanderbilt Ave               40.689407   \n",
       "2           E 17 St & Broadway               40.737050   \n",
       "3              W 20 St & 8 Ave               40.743453   \n",
       "4              W 13 St & 6 Ave               40.736494   \n",
       "\n",
       "   start station longitude  end station id            end station name  \\\n",
       "0               -73.970325             477             W 41 St & 8 Ave   \n",
       "1               -73.968855             436    Hancock St & Bedford Ave   \n",
       "2               -73.990093             477             W 41 St & 8 Ave   \n",
       "3               -74.000040             491        E 24 St & Park Ave S   \n",
       "4               -73.997044             473  Rivington St & Chrystie St   \n",
       "\n",
       "   end station latitude  end station longitude  bikeid    usertype  \\\n",
       "0             40.756405             -73.990026   21409  Subscriber   \n",
       "1             40.682166             -73.953990   19397  Subscriber   \n",
       "2             40.756405             -73.990026   20998    Customer   \n",
       "3             40.740964             -73.986022   21565  Subscriber   \n",
       "4             40.721101             -73.991925   14693  Subscriber   \n",
       "\n",
       "   birth year  gender                date  \n",
       "0      1987.0       1 2015-03-01 00:00:00  \n",
       "1      1968.0       1 2015-03-01 00:01:00  \n",
       "2         NaN       0 2015-03-01 00:01:00  \n",
       "3      1983.0       1 2015-03-01 00:02:00  \n",
       "4      1970.0       1 2015-03-01 00:02:00  "
      ]
     },
     "execution_count": 86,
     "metadata": {},
     "output_type": "execute_result"
    }
   ],
   "source": [
    "trips['date'] = pd.to_datetime(trips['starttime'])\n",
    "trips.head()"
   ]
  },
  {
   "cell_type": "code",
   "execution_count": 87,
   "metadata": {
    "collapsed": false
   },
   "outputs": [],
   "source": [
    "trips['DayofWeek'] = trips['date'].dt.weekday"
   ]
  },
  {
   "cell_type": "code",
   "execution_count": 88,
   "metadata": {
    "collapsed": false
   },
   "outputs": [],
   "source": [
    "trips_sub = trips[trips.usertype == \"Subscriber\"]\n",
    "trips_cus = trips[trips.usertype == \"Customer\"]\n",
    "\n",
    "weekends_sub = trips_sub.groupby('DayofWeek').get_group(5) #Saturday\n",
    "weekends_sub = weekends.append(trips_sub.groupby('DayofWeek').get_group(6)) #Sunday\n",
    "\n",
    "weekends_cus = trips_cus.groupby('DayofWeek').get_group(5) #Saturday\n",
    "weekends_cus = weekends.append(trips_cus.groupby('DayofWeek').get_group(6)) #Sunday\n",
    "\n",
    "weekends_tot = trips.groupby('DayofWeek').get_group(5) #Saturday\n",
    "weekends_tot = weekends_tot.append(trips.groupby('DayofWeek').get_group(6)) #Sunday\n",
    "\n",
    "weekdays_sub = trips_sub.groupby('DayofWeek').get_group(1) #Tuesday\n",
    "weekdays_sub = weekdays_sub.append(trips_sub.groupby('DayofWeek').get_group(2)) #Wednesday\n",
    "weekdays_sub = weekdays_sub.append(trips_sub.groupby('DayofWeek').get_group(3)) #Thursday\n",
    "\n",
    "weekdays_cus = trips_cus.groupby('DayofWeek').get_group(1) #Tuesday\n",
    "weekdays_cus = weekdays_cus.append(trips_cus.groupby('DayofWeek').get_group(2)) #Wednesday\n",
    "weekdays_cus = weekdays_cus.append(trips_cus.groupby('DayofWeek').get_group(3)) #Thursday\n",
    "\n",
    "weekdays_tot = trips.groupby('DayofWeek').get_group(1) #Tuesday\n",
    "weekdays_tot = weekdays_tot.append(trips.groupby('DayofWeek').get_group(2)) #Wednesday\n",
    "weekdays_tot = weekdays_tot.append(trips.groupby('DayofWeek').get_group(3)) #Thursday"
   ]
  },
  {
   "cell_type": "code",
   "execution_count": 93,
   "metadata": {
    "collapsed": true
   },
   "outputs": [],
   "source": [
    "monday_tot = np.asarray(trips.groupby('DayofWeek').get_group(0).count().tripduration)\n",
    "tuesday_tot = np.asarray(trips.groupby('DayofWeek').get_group(1).count().tripduration)\n",
    "wednesday_tot = np.asarray(trips.groupby('DayofWeek').get_group(2).count().tripduration)\n",
    "thursday_tot = np.asarray(trips.groupby('DayofWeek').get_group(3).count().tripduration)\n",
    "friday_tot = np.asarray(trips.groupby('DayofWeek').get_group(4).count().tripduration)\n",
    "saturday_tot = np.asarray(trips.groupby('DayofWeek').get_group(5).count().tripduration)\n",
    "sunday_tot = np.asarray(trips.groupby('DayofWeek').get_group(6).count().tripduration)\n",
    "\n",
    "monday_sub = np.asarray(trips_sub.groupby('DayofWeek').get_group(0).count().tripduration)\n",
    "tuesday_sub = np.asarray(trips_sub.groupby('DayofWeek').get_group(1).count().tripduration)\n",
    "wednesday_sub = np.asarray(trips_sub.groupby('DayofWeek').get_group(2).count().tripduration)\n",
    "thursday_sub = np.asarray(trips_sub.groupby('DayofWeek').get_group(3).count().tripduration)\n",
    "friday_sub = np.asarray(trips_sub.groupby('DayofWeek').get_group(4).count().tripduration)\n",
    "saturday_sub = np.asarray(trips_sub.groupby('DayofWeek').get_group(5).count().tripduration)\n",
    "sunday_sub = np.asarray(trips_sub.groupby('DayofWeek').get_group(6).count().tripduration)\n",
    "\n",
    "monday_cus = np.asarray(trips_cus.groupby('DayofWeek').get_group(0).count().tripduration)\n",
    "tuesday_cus = np.asarray(trips_cus.groupby('DayofWeek').get_group(1).count().tripduration)\n",
    "wednesday_cus = np.asarray(trips_cus.groupby('DayofWeek').get_group(2).count().tripduration)\n",
    "thursday_cus = np.asarray(trips_cus.groupby('DayofWeek').get_group(3).count().tripduration)\n",
    "friday_cus = np.asarray(trips_cus.groupby('DayofWeek').get_group(4).count().tripduration)\n",
    "saturday_cus = np.asarray(trips_cus.groupby('DayofWeek').get_group(5).count().tripduration)\n",
    "sunday_cus = np.asarray(trips_cus.groupby('DayofWeek').get_group(6).count().tripduration)"
   ]
  },
  {
   "cell_type": "code",
   "execution_count": 106,
   "metadata": {
    "collapsed": false
   },
   "outputs": [],
   "source": [
    "weekend_trips_tot = np.asarray([saturday_tot, sunday_tot])\n",
    "weekend_trips_sub = np.asarray([saturday_sub, sunday_sub])\n",
    "weekend_trips_cus = np.asarray([saturday_cus, sunday_cus])\n",
    "\n",
    "\n",
    "weekday_trips_tot = np.asarray([tuesday_tot, wednesday_tot, thursday_tot])\n",
    "weekday_trips_sub = np.asarray([tuesday_sub, wednesday_sub, thursday_sub])\n",
    "weekday_trips_cus = np.asarray([tuesday_cus, wednesday_cus, thursday_cus])"
   ]
  },
  {
   "cell_type": "code",
   "execution_count": 107,
   "metadata": {
    "collapsed": false
   },
   "outputs": [
    {
     "name": "stdout",
     "output_type": "stream",
     "text": [
      "KruskalResult(statistic=3.0, pvalue=0.08326451666355042) (0.0, 1.0, 0, array([ 29529.,  56247.]))\n"
     ]
    }
   ],
   "source": [
    "print(stats.kruskal(weekend_trips_tot, weekday_trips_tot),\\\n",
    "       stats.chi2_contingency([weekend_trips_tot.sum()/2, weekday_trips_tot.sum()/3]))"
   ]
  },
  {
   "cell_type": "code",
   "execution_count": 108,
   "metadata": {
    "collapsed": false
   },
   "outputs": [
    {
     "name": "stdout",
     "output_type": "stream",
     "text": [
      "KruskalResult(statistic=3.0, pvalue=0.08326451666355042) (0.0, 1.0, 0, array([ 27443.        ,  54606.33333333]))\n"
     ]
    }
   ],
   "source": [
    "print(stats.kruskal(weekend_trips_sub, weekday_trips_sub),\\\n",
    "       stats.chi2_contingency([weekend_trips_sub.sum()/2, weekday_trips_sub.sum()/3]))"
   ]
  },
  {
   "cell_type": "code",
   "execution_count": 110,
   "metadata": {
    "collapsed": false
   },
   "outputs": [
    {
     "name": "stdout",
     "output_type": "stream",
     "text": [
      "KruskalResult(statistic=0.0, pvalue=1.0) (0.0, 1.0, 0, array([ 2086.        ,  1640.66666667]))\n"
     ]
    }
   ],
   "source": [
    "print(stats.kruskal(weekend_trips_cus, weekday_trips_cus),\\\n",
    "       stats.chi2_contingency([weekend_trips_cus.sum()/2, weekday_trips_cus.sum()/3]))"
   ]
  },
  {
   "cell_type": "code",
   "execution_count": 122,
   "metadata": {
    "collapsed": false
   },
   "outputs": [
    {
     "data": {
      "text/plain": [
       "Text(0.5,1,'Distribution of Trips Taken by Day of Week (0 is Monday, 6 is Sunday)')"
      ]
     },
     "execution_count": 122,
     "metadata": {},
     "output_type": "execute_result"
    },
    {
     "data": {
      "image/png": "[encoded data removed]",
      "text/plain": [
       "<matplotlib.figure.Figure at 0x7fd89c22b0f0>"
      ]
     },
     "metadata": {},
     "output_type": "display_data"
    }
   ],
   "source": [
    "objects = ('Monday', 'Tuesday', \"Wednesday\", \"Thursday\", \"Friday\", \"Saturday\", \"Sunday\")\n",
    "y_pos = np.arange(len(objects))\n",
    "tot_bar = [monday_tot, tuesday_tot, wednesday_tot, thursday_tot, friday_tot, saturday_tot, sunday_tot]\n",
    "sub_bar = [monday_sub, tuesday_sub, wednesday_sub, thursday_sub, friday_sub, saturday_sub, sunday_sub]\n",
    "cus_bar = [monday_cus, tuesday_cus, wednesday_cus, thursday_cus, friday_cus, saturday_cus, sunday_cus]\n",
    "\n",
    "width = .2\n",
    " \n",
    "fig, ax = plt.subplots()\n",
    "\n",
    "rect1 = ax.bar(y_pos, tot_bar, width, align='center', color = 'r')\n",
    "rect2 = ax.bar(y_pos + width, sub_bar, width, align='center', color = 'g')\n",
    "rect3 = ax.bar(y_pos + 2*width, cus_bar, width, align='center', color = 'y')\n",
    "ax.set_xticks([.75*width, 1 + .75*width, 2 + .75*width, 3 + .75*width, 4 + .75*width, 5 + .75*width, 6 + .75*width])\n",
    "ax.set_xticklabels(('Monday', 'Tuesday', 'Wednesday', 'Thursday', \"Friday\", \"Saturday\", \"Sunday\"))\n",
    "ax.set_ylabel('Number of Trips')\n",
    "ax.legend((rect1[0], rect2[0], rect3[0]), (\"Total\", \"Subscribers\", \"Customers\"))\n",
    "ax.set_title('Distribution of Trips Taken by Day of Week (0 is Monday, 6 is Sunday)')"
   ]
  },
  {
   "cell_type": "code",
   "execution_count": 127,
   "metadata": {
    "collapsed": false
   },
   "outputs": [
    {
     "data": {
      "text/plain": [
       "Text(0.5,1,'Average # of Trips Taken per Weekday(Tuesday-Thursday) + Weekday(Saturday-Sunday)')"
      ]
     },
     "execution_count": 127,
     "metadata": {},
     "output_type": "execute_result"
    },
    {
     "data": {
      "image/png": "[encoded data removed]",
      "text/plain": [
       "<matplotlib.figure.Figure at 0x7fd89b675ac8>"
      ]
     },
     "metadata": {},
     "output_type": "display_data"
    }
   ],
   "source": [
    "objects = ('Weekday Trips', 'Weekend Trips')\n",
    "y_pos = np.arange(len(objects))\n",
    "tot_bar = [weekday_trips_tot.mean(), weekend_trips_tot.mean()]\n",
    "sub_bar = [weekday_trips_sub.mean(), weekend_trips_sub.mean()]\n",
    "cus_bar = [weekday_trips_cus.mean(), weekend_trips_cus.mean()]\n",
    "\n",
    "width = .2\n",
    " \n",
    "fig, ax = plt.subplots()\n",
    "\n",
    "rect1 = ax.bar(y_pos, tot_bar, width, align='center', color = 'r')\n",
    "rect2 = ax.bar(y_pos + width, sub_bar, width, align='center', color = 'g')\n",
    "rect3 = ax.bar(y_pos + 2*width, cus_bar, width, align='center', color = 'y')\n",
    "ax.set_xticks([.75*width, 1 + .75*width])\n",
    "ax.set_xticklabels(('Weekday Trips', 'Weekend Trips'))\n",
    "ax.set_ylabel('Number of Trips')\n",
    "ax.legend((rect1[0], rect2[0], rect3[0]), (\"Total\", \"Subscribers\", \"Customers\"))\n",
    "ax.set_title('Average # of Trips Taken per Weekday(Tuesday-Thursday) + Weekday(Saturday-Sunday)')"
   ]
  }
 ],
 "metadata": {
  "kernelspec": {
   "display_name": "PUI2016_Python3",
   "language": "python",
   "name": "pui2016_python3"
  },
  "language_info": {
   "codemirror_mode": {
    "name": "ipython",
    "version": 3
   },
   "file_extension": ".py",
   "mimetype": "text/x-python",
   "name": "python",
   "nbconvert_exporter": "python",
   "pygments_lexer": "ipython3",
   "version": "3.5.4"
  }
 },
 "nbformat": 4,
 "nbformat_minor": 0
}
