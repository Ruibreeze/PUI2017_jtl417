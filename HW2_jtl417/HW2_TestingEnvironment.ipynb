{
 "cells": [
  {
   "cell_type": "code",
   "execution_count": 100,
   "metadata": {
    "collapsed": false
   },
   "outputs": [
    {
     "name": "stdout",
     "output_type": "stream",
     "text": [
      "Populating the interactive namespace from numpy and matplotlib\n",
      "http://bustime.mta.info/api/siri/vehicle-monitoring.json?key=a3847762-5b97-4f9c-bca0-42aa6097224a&VehicleMonitoringDetailLevel=calls&LineRef=B52\n"
     ]
    }
   ],
   "source": [
    "import pylab as pl\n",
    "import os\n",
    "import json\n",
    "try:\n",
    "    import urllib2 as urllib\n",
    "except ImportError:\n",
    "    import urllib.request as urllib\n",
    "\n",
    "%pylab inline\n",
    "pl.rc('font', size=15)\n",
    "\n",
    "url = \"http://bustime.mta.info/api/siri/vehicle-monitoring.json?key=a3847762-5b97-4f9c-bca0-42aa6097224a&VehicleMonitoringDetailLevel=calls&LineRef=B52\" \n",
    "print (url)\n",
    "response = urllib.urlopen(url)\n",
    "data = response.read().decode(\"utf-8\")\n",
    "data = json.loads(data)"
   ]
  },
  {
   "cell_type": "code",
   "execution_count": 98,
   "metadata": {
    "collapsed": false
   },
   "outputs": [
    {
     "name": "stdout",
     "output_type": "stream",
     "text": [
      "Bus Line: B52\n",
      "Number of active buses: 12\n",
      "Bus 0 is at latitude 40.691378 and longitude -73.987153\n",
      "Bus 1 is at latitude 40.68735 and longitude -73.97702\n",
      "Bus 2 is at latitude 40.688859 and longitude -73.927617\n",
      "Bus 3 is at latitude 40.686537 and longitude -73.947807\n",
      "Bus 4 is at latitude 40.68924 and longitude -73.924273\n",
      "Bus 5 is at latitude 40.690788 and longitude -73.985673\n",
      "Bus 6 is at latitude 40.690752 and longitude -73.920827\n",
      "Bus 7 is at latitude 40.688351 and longitude -73.979532\n",
      "Bus 8 is at latitude 40.696191 and longitude -73.991084\n",
      "Bus 9 is at latitude 40.700925 and longitude -73.910473\n",
      "Bus 10 is at latitude 40.686344 and longitude -73.949475\n",
      "Bus 11 is at latitude 40.687974 and longitude -73.935299\n"
     ]
    }
   ],
   "source": [
    "vehicleActivity = data['Siri']['ServiceDelivery']['VehicleMonitoringDelivery'][0]['VehicleActivity']\n",
    "bus_count = len(vehicleActivity)\n",
    "line_name = vehicleActivity[0]['MonitoredVehicleJourney']['PublishedLineName']\n",
    "print(\"Bus Line: \" + line_name)\n",
    "print(\"Number of active buses: \" + str(bus_count))\n",
    "for i in range(bus_count):\n",
    "    lat = vehicleActivity[i]['MonitoredVehicleJourney']['VehicleLocation']['Latitude']\n",
    "    long = vehicleActivity[i]['MonitoredVehicleJourney']['VehicleLocation']['Longitude']\n",
    "    print(\"Bus \" + str(i) + \" is at latitude \" + str(lat) + \" and longitude \" + str(long))"
   ]
  },
  {
   "cell_type": "code",
   "execution_count": null,
   "metadata": {
    "collapsed": true
   },
   "outputs": [],
   "source": []
  }
 ],
 "metadata": {
  "kernelspec": {
   "display_name": "PUI2016_Python3",
   "language": "python",
   "name": "pui2016_python3"
  },
  "language_info": {
   "codemirror_mode": {
    "name": "ipython",
    "version": 3
   },
   "file_extension": ".py",
   "mimetype": "text/x-python",
   "name": "python",
   "nbconvert_exporter": "python",
   "pygments_lexer": "ipython3",
   "version": "3.5.2"
  }
 },
 "nbformat": 4,
 "nbformat_minor": 0
}
