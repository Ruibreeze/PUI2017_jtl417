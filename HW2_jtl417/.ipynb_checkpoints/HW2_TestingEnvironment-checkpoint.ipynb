{
 "cells": [
  {
   "cell_type": "code",
   "execution_count": 102,
   "metadata": {
    "collapsed": false
   },
   "outputs": [
    {
     "name": "stdout",
     "output_type": "stream",
     "text": [
      "Populating the interactive namespace from numpy and matplotlib\n",
      "http://bustime.mta.info/api/siri/vehicle-monitoring.json?key=a3847762-5b97-4f9c-bca0-42aa6097224a&VehicleMonitoringDetailLevel=calls&LineRef=B52\n"
     ]
    }
   ],
   "source": [
    "import pylab as pl\n",
    "import os\n",
    "import json\n",
    "try:\n",
    "    import urllib2 as urllib\n",
    "except ImportError:\n",
    "    import urllib.request as urllib\n",
    "\n",
    "%pylab inline\n",
    "pl.rc('font', size=15)\n",
    "\n",
    "url = \"http://bustime.mta.info/api/siri/vehicle-monitoring.json?key=a3847762-5b97-4f9c-bca0-42aa6097224a&VehicleMonitoringDetailLevel=calls&LineRef=B52\" \n",
    "print (url)\n",
    "response = urllib.urlopen(url)\n",
    "data = response.read().decode(\"utf-8\")\n",
    "data = json.loads(data)"
   ]
  },
  {
   "cell_type": "code",
   "execution_count": 104,
   "metadata": {
    "collapsed": false
   },
   "outputs": [
    {
     "name": "stdout",
     "output_type": "stream",
     "text": [
      "Bus Line: B52\n",
      "Number of active buses: 13\n",
      "Bus 0 is at latitude 40.699311 and longitude -73.911253\n",
      "Bus 1 is at latitude 40.693637 and longitude -73.917997\n",
      "Bus 2 is at latitude 40.691528 and longitude -73.987527\n",
      "Bus 3 is at latitude 40.692341 and longitude -73.91927\n",
      "Bus 4 is at latitude 40.686875 and longitude -73.944865\n",
      "Bus 5 is at latitude 40.693341 and longitude -73.990591\n",
      "Bus 6 is at latitude 40.686102 and longitude -73.951575\n",
      "Bus 7 is at latitude 40.685613 and longitude -73.955822\n",
      "Bus 8 is at latitude 40.687623 and longitude -73.977719\n",
      "Bus 9 is at latitude 40.68869 and longitude -73.929081\n",
      "Bus 10 is at latitude 40.689724 and longitude -73.983023\n",
      "Bus 11 is at latitude 40.688786 and longitude -73.980633\n",
      "Bus 12 is at latitude 40.686085 and longitude -73.951722\n"
     ]
    }
   ],
   "source": [
    "vehicleActivity = data['Siri']['ServiceDelivery']['VehicleMonitoringDelivery'][0]['VehicleActivity']\n",
    "bus_count = len(vehicleActivity)\n",
    "line_name = vehicleActivity[0]['MonitoredVehicleJourney']['PublishedLineName']\n",
    "print(\"Bus Line: \" + line_name)\n",
    "print(\"Number of active buses: \" + str(bus_count))\n",
    "for i in range(bus_count):\n",
    "    lat = vehicleActivity[i]['MonitoredVehicleJourney']['VehicleLocation']['Latitude']\n",
    "    long = vehicleActivity[i]['MonitoredVehicleJourney']['VehicleLocation']['Longitude']\n",
    "    print(\"Bus \" + str(i) + \" is at latitude \" + str(lat) + \" and longitude \" + str(long))"
   ]
  },
  {
   "cell_type": "code",
   "execution_count": 115,
   "metadata": {
    "collapsed": false
   },
   "outputs": [
    {
     "name": "stdout",
     "output_type": "stream",
     "text": [
      "PALMETTO ST/WYCKOFF AVat stop\n",
      "GATES AV/CENTRAL AVat stop\n",
      "FULTON ST/SMITH STat stop\n",
      "GATES AV/EVERGREEN AVat stop\n",
      "GATES AV/TOMPKINS AVat stop\n",
      "CADMAN PLZ W/MONTAGUE STat stop\n",
      "GATES AV/NOSTRAND AVapproaching\n",
      "GATES AV/FRANKLIN AVapproaching\n",
      "FULTON ST/LAFAYETTE AVapproaching\n",
      "GATES AV/MALCOLM X BLapproaching\n",
      "FULTON ST/FLATBUSH AV EXT< 1 stop away\n",
      "FULTON ST/BOND ST< 1 stop away\n",
      "GATES AV/BEDFORD AV< 1 stop away\n"
     ]
    }
   ],
   "source": [
    "for i in range(bus_count):\n",
    "    lat = str(vehicleActivity[i]['MonitoredVehicleJourney']['VehicleLocation']['Latitude'])\n",
    "    long = str(vehicleActivity[i]['MonitoredVehicleJourney']['VehicleLocation']['Longitude'])\n",
    "    if not vehicleActivity[i]['MonitoredVehicleJourney']['OnwardCalls']:\n",
    "        stop = 'N/A'\n",
    "        status = 'N/A'\n",
    "    else:\n",
    "        stop = str(vehicleActivity[i]['MonitoredVehicleJourney']['OnwardCalls']['OnwardCall'][0]['StopPointName'])\n",
    "        status = str(vehicleActivity[i]['MonitoredVehicleJourney']['OnwardCalls']['OnwardCall'][0]['Extensions'] \\\n",
    "                 ['Distances']['PresentableDistance'])"
   ]
  },
  {
   "cell_type": "code",
   "execution_count": null,
   "metadata": {
    "collapsed": true
   },
   "outputs": [],
   "source": []
  }
 ],
 "metadata": {
  "kernelspec": {
   "display_name": "PUI2016_Python3",
   "language": "python",
   "name": "pui2016_python3"
  },
  "language_info": {
   "codemirror_mode": {
    "name": "ipython",
    "version": 3
   },
   "file_extension": ".py",
   "mimetype": "text/x-python",
   "name": "python",
   "nbconvert_exporter": "python",
   "pygments_lexer": "ipython3",
   "version": "3.5.2"
  }
 },
 "nbformat": 4,
 "nbformat_minor": 0
}
